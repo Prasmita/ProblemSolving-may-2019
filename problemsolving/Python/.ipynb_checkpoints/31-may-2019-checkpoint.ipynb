{
 "cells": [
  {
   "cell_type": "markdown",
   "metadata": {},
   "source": [
    "#JNTUA FDP-Day 05\n",
    "## Date: 31 may 2019\n",
    "#### Day Objectives\n",
    "* tuples\n",
    "* dictionaries\n",
    "* regular expressions\n",
    "* Linear and Binary search\n",
    "* Date arithmetic\n",
    "* Iterators and Generators\n",
    "* Functional Programming\n"
   ]
  },
  {
   "cell_type": "markdown",
   "metadata": {},
   "source": [
    "### Python Tuples"
   ]
  },
  {
   "cell_type": "code",
   "execution_count": 1,
   "metadata": {},
   "outputs": [],
   "source": [
    "t1 = (1001, 'Sindhu', 92,72,)\n",
    "\n"
   ]
  },
  {
   "cell_type": "code",
   "execution_count": 2,
   "metadata": {},
   "outputs": [
    {
     "data": {
      "text/plain": [
       "(1001, 'Sindhu', 92, 72)"
      ]
     },
     "execution_count": 2,
     "metadata": {},
     "output_type": "execute_result"
    }
   ],
   "source": [
    "t1\n"
   ]
  },
  {
   "cell_type": "code",
   "execution_count": 3,
   "metadata": {},
   "outputs": [
    {
     "ename": "AttributeError",
     "evalue": "'tuple' object has no attribute 'append'",
     "output_type": "error",
     "traceback": [
      "\u001b[1;31m---------------------------------------------------------------------------\u001b[0m",
      "\u001b[1;31mAttributeError\u001b[0m                            Traceback (most recent call last)",
      "\u001b[1;32m<ipython-input-3-a2c20840c882>\u001b[0m in \u001b[0;36m<module>\u001b[1;34m\u001b[0m\n\u001b[1;32m----> 1\u001b[1;33m \u001b[0mt1\u001b[0m\u001b[1;33m.\u001b[0m\u001b[0mappend\u001b[0m\u001b[1;33m(\u001b[0m\u001b[1;36m45\u001b[0m\u001b[1;33m)\u001b[0m\u001b[1;33m\u001b[0m\u001b[1;33m\u001b[0m\u001b[0m\n\u001b[0m",
      "\u001b[1;31mAttributeError\u001b[0m: 'tuple' object has no attribute 'append'"
     ]
    }
   ],
   "source": [
    "t1.append(45)"
   ]
  },
  {
   "cell_type": "code",
   "execution_count": 4,
   "metadata": {},
   "outputs": [
    {
     "ename": "AttributeError",
     "evalue": "'tuple' object has no attribute 'sort'",
     "output_type": "error",
     "traceback": [
      "\u001b[1;31m---------------------------------------------------------------------------\u001b[0m",
      "\u001b[1;31mAttributeError\u001b[0m                            Traceback (most recent call last)",
      "\u001b[1;32m<ipython-input-4-5a6cb2ed75f6>\u001b[0m in \u001b[0;36m<module>\u001b[1;34m\u001b[0m\n\u001b[1;32m----> 1\u001b[1;33m \u001b[0mt1\u001b[0m\u001b[1;33m.\u001b[0m\u001b[0msort\u001b[0m\u001b[1;33m(\u001b[0m\u001b[1;33m)\u001b[0m\u001b[1;33m\u001b[0m\u001b[1;33m\u001b[0m\u001b[0m\n\u001b[0m",
      "\u001b[1;31mAttributeError\u001b[0m: 'tuple' object has no attribute 'sort'"
     ]
    }
   ],
   "source": [
    "t1.sort()\n"
   ]
  },
  {
   "cell_type": "code",
   "execution_count": 5,
   "metadata": {},
   "outputs": [
    {
     "ename": "TypeError",
     "evalue": "'tuple' object is not callable",
     "output_type": "error",
     "traceback": [
      "\u001b[1;31m---------------------------------------------------------------------------\u001b[0m",
      "\u001b[1;31mTypeError\u001b[0m                                 Traceback (most recent call last)",
      "\u001b[1;32m<ipython-input-5-408fc4faac52>\u001b[0m in \u001b[0;36m<module>\u001b[1;34m\u001b[0m\n\u001b[1;32m----> 1\u001b[1;33m \u001b[0mt1\u001b[0m\u001b[1;33m(\u001b[0m\u001b[1;36m0\u001b[0m\u001b[1;33m)\u001b[0m\u001b[1;33m\u001b[0m\u001b[1;33m\u001b[0m\u001b[0m\n\u001b[0m",
      "\u001b[1;31mTypeError\u001b[0m: 'tuple' object is not callable"
     ]
    }
   ],
   "source": [
    "t1(0)\n"
   ]
  },
  {
   "cell_type": "code",
   "execution_count": 6,
   "metadata": {},
   "outputs": [
    {
     "data": {
      "text/plain": [
       "1001"
      ]
     },
     "execution_count": 6,
     "metadata": {},
     "output_type": "execute_result"
    }
   ],
   "source": [
    "t1[0]\n"
   ]
  },
  {
   "cell_type": "code",
   "execution_count": 7,
   "metadata": {},
   "outputs": [
    {
     "data": {
      "text/plain": [
       "(92, 72)"
      ]
     },
     "execution_count": 7,
     "metadata": {},
     "output_type": "execute_result"
    }
   ],
   "source": [
    "t1[2:]"
   ]
  },
  {
   "cell_type": "code",
   "execution_count": 9,
   "metadata": {},
   "outputs": [
    {
     "name": "stdout",
     "output_type": "stream",
     "text": [
      "258\n"
     ]
    }
   ],
   "source": [
    "# accessing 2nd digit of all elements in tuple\n",
    "\n",
    "t2 = (321,654,789098)\n",
    "\n",
    "print(str(t2[0])[1]  + str(t2[1])[1] + str(t2[2])[1])\n"
   ]
  },
  {
   "cell_type": "code",
   "execution_count": 10,
   "metadata": {},
   "outputs": [
    {
     "name": "stdout",
     "output_type": "stream",
     "text": [
      "2 5 8\n"
     ]
    }
   ],
   "source": [
    "# accessing 2nd digit of all elements in tuple with spaces\n",
    "t2 = (321,654,789098)\n",
    "\n",
    "print(str(t2[0])[1],   str(t2[1])[1],  str(t2[2])[1])\n"
   ]
  },
  {
   "cell_type": "code",
   "execution_count": 12,
   "metadata": {},
   "outputs": [
    {
     "data": {
      "text/plain": [
       "263357.6666666667"
      ]
     },
     "execution_count": 12,
     "metadata": {},
     "output_type": "execute_result"
    }
   ],
   "source": [
    "# average of all elements in a tuple\n",
    "\n",
    "def averagetuple(t):\n",
    "    sum=0\n",
    "    for i in range(0,len(t)):\n",
    "        sum += t[i]\n",
    "    return sum/len(t)\n",
    "\n",
    "averagetuple(t2)\n",
    "\n"
   ]
  },
  {
   "cell_type": "code",
   "execution_count": 16,
   "metadata": {},
   "outputs": [
    {
     "data": {
      "text/plain": [
       "478.0"
      ]
     },
     "execution_count": 16,
     "metadata": {},
     "output_type": "execute_result"
    }
   ],
   "source": [
    "# average of all elements in a linearDS except string\n",
    "\n",
    "def averageLinearDS(t):\n",
    "    sum=0\n",
    "    for i in range(0,len(t)):\n",
    "        sum += t[i]\n",
    "    return sum/len(t)\n",
    "\n",
    "li = [123,243,456,678,890]\n",
    "\n",
    "averageLinearDS(li)"
   ]
  },
  {
   "cell_type": "code",
   "execution_count": 19,
   "metadata": {},
   "outputs": [
    {
     "name": "stdout",
     "output_type": "stream",
     "text": [
      "-1\n",
      "2\n"
     ]
    }
   ],
   "source": [
    "# Function to search in a Linear Data Structure\n",
    "\n",
    "def searchLinearDS(ds,key):\n",
    "    for i in range(0,len(ds)):\n",
    "            if ds[i]==key:\n",
    "                return i\n",
    "    return -1\n",
    "print(searchLinearDS(li,945))   # li already created. refer above.\n",
    "print(searchLinearDS(li,456))\n",
    "\n",
    "        \n",
    "            "
   ]
  },
  {
   "cell_type": "markdown",
   "metadata": {},
   "source": [
    "#### Iterable objects"
   ]
  },
  {
   "cell_type": "code",
   "execution_count": 21,
   "metadata": {},
   "outputs": [
    {
     "name": "stdout",
     "output_type": "stream",
     "text": [
      "p\n",
      "y\n",
      "t\n",
      "h\n",
      "o\n",
      "n\n"
     ]
    }
   ],
   "source": [
    "s=\"python\"\n",
    "for i in s:\n",
    "    print(i)"
   ]
  },
  {
   "cell_type": "code",
   "execution_count": 22,
   "metadata": {},
   "outputs": [
    {
     "data": {
      "text/plain": [
       "478.0"
      ]
     },
     "execution_count": 22,
     "metadata": {},
     "output_type": "execute_result"
    }
   ],
   "source": [
    "# average of all elements in a linearDS except string  using iterable objects\n",
    "\n",
    "def averageLinearDS(t):\n",
    "    sum=0\n",
    "    for i in t:                           # for i in range(0,len(t)):   \n",
    "                                           # sum += t[i]\n",
    "        sum += i\n",
    "    return sum/len(t)\n",
    "\n",
    "li = [123,243,456,678,890]\n",
    "\n",
    "averageLinearDS(li)"
   ]
  },
  {
   "cell_type": "code",
   "execution_count": null,
   "metadata": {},
   "outputs": [],
   "source": [
    "# Function to search in a Linear Data Structure  using iterable objects\n",
    "\n",
    "def searchLinearDS(ds,key):\n",
    "    for i in range(0,len(ds)):  # here iterable objects cannot be used because index should be return as output.so use range()\n",
    "            if ds[i]==key:\n",
    "                return i\n",
    "    return -1\n",
    "print(searchLinearDS(li,945))  # li already created. refer above.\n",
    "print(searchLinearDS(li,456))   "
   ]
  },
  {
   "cell_type": "code",
   "execution_count": 24,
   "metadata": {},
   "outputs": [
    {
     "data": {
      "text/plain": [
       "890"
      ]
     },
     "execution_count": 24,
     "metadata": {},
     "output_type": "execute_result"
    }
   ],
   "source": [
    "# function to identify the maximum element in a data structure\n",
    "\n",
    "def maxelementDS(ds):\n",
    "    m=ds[0]\n",
    "    for item in ds:\n",
    "        if item>m:\n",
    "            m=item\n",
    "    return m\n",
    "\n",
    "\n",
    "maxelementDS(li)    # li already created. refer above.\n",
    "        \n",
    "        "
   ]
  },
  {
   "cell_type": "markdown",
   "metadata": {},
   "source": [
    "### python Dictionaries"
   ]
  },
  {
   "cell_type": "code",
   "execution_count": 29,
   "metadata": {},
   "outputs": [
    {
     "name": "stdout",
     "output_type": "stream",
     "text": [
      "9247222111\n"
     ]
    }
   ],
   "source": [
    "d1 = {'gayatri': 9248048027, 'phani kumar': 9247222111 }   # All keys in dictionary are unique\n",
    "print(d1['phani kumar'])"
   ]
  },
  {
   "cell_type": "code",
   "execution_count": 26,
   "metadata": {},
   "outputs": [
    {
     "data": {
      "text/plain": [
       "dict_keys(['gayatri', 'phani kumar'])"
      ]
     },
     "execution_count": 26,
     "metadata": {},
     "output_type": "execute_result"
    }
   ],
   "source": [
    "d1.keys()   # All keys in dictionary are unique"
   ]
  },
  {
   "cell_type": "code",
   "execution_count": 27,
   "metadata": {},
   "outputs": [
    {
     "data": {
      "text/plain": [
       "dict_values([9248048027, 9247222111])"
      ]
     },
     "execution_count": 27,
     "metadata": {},
     "output_type": "execute_result"
    }
   ],
   "source": [
    "d1.values()"
   ]
  },
  {
   "cell_type": "code",
   "execution_count": 30,
   "metadata": {},
   "outputs": [
    {
     "data": {
      "text/plain": [
       "{'gayatri': 9248048027, 'phani kumar': 9247222111, 'sailaja': 8885551098}"
      ]
     },
     "execution_count": 30,
     "metadata": {},
     "output_type": "execute_result"
    }
   ],
   "source": [
    "d1['sailaja']=8885551098\n",
    "d1\n"
   ]
  },
  {
   "cell_type": "code",
   "execution_count": 31,
   "metadata": {},
   "outputs": [
    {
     "data": {
      "text/plain": [
       "{'gayatri': 9248048027, 'phani kumar': 9247222111}"
      ]
     },
     "execution_count": 31,
     "metadata": {},
     "output_type": "execute_result"
    }
   ],
   "source": [
    "d1.pop('sailaja')   # removes a key and value\n",
    "d1\n"
   ]
  },
  {
   "cell_type": "code",
   "execution_count": 33,
   "metadata": {},
   "outputs": [
    {
     "data": {
      "text/plain": [
       "{'roll no': 501, 'name': 'gayatri'}"
      ]
     },
     "execution_count": 33,
     "metadata": {},
     "output_type": "execute_result"
    }
   ],
   "source": [
    "d2={ 'roll no': 501, 'name' : 'gayatri'}\n",
    "d2\n"
   ]
  },
  {
   "cell_type": "code",
   "execution_count": 34,
   "metadata": {},
   "outputs": [
    {
     "name": "stdout",
     "output_type": "stream",
     "text": [
      "gayatri : 9248048027\n",
      "phani kumar : 9247222111\n"
     ]
    }
   ],
   "source": [
    "# contacts Application\n",
    "# add, display contacts\n",
    "\n",
    "\n",
    "contacts={}\n",
    "\n",
    "def addcontact(d, name, phone):\n",
    "    d[name]=phone\n",
    "    return\n",
    "\n",
    "def displaycontacts(d):\n",
    "    for name, phone in d.items():\n",
    "        print(name, \":\" , phone)\n",
    "    return\n",
    "\n",
    "\n",
    "\n",
    "addcontact(contacts, 'gayatri',9248048027)\n",
    "addcontact(contacts, 'phani kumar', 9247222111)\n",
    "\n",
    "displaycontacts(contacts)\n",
    "\n",
    "        \n",
    "\n",
    "\n",
    "        \n",
    "    \n",
    "\n",
    "\n"
   ]
  },
  {
   "cell_type": "code",
   "execution_count": 36,
   "metadata": {},
   "outputs": [
    {
     "name": "stdout",
     "output_type": "stream",
     "text": [
      "sailaja : 8885551098\n",
      "sailaja : 8885551098\n",
      "gayatri : 7680883575\n"
     ]
    }
   ],
   "source": [
    "# contacts Application\n",
    "# add, display, modify contacts\n",
    "\n",
    "\n",
    "contacts={}\n",
    "\n",
    "def addcontact(d, name, phone):\n",
    "    d[name]=phone\n",
    "    return\n",
    "\n",
    "def displaycontacts(d):\n",
    "    for name, phone in d.items():\n",
    "        print(name, \":\" , phone)\n",
    "    return\n",
    "\n",
    "def modifycontacts(d, name, newphone):\n",
    "    d[name]=newphone\n",
    "    return\n",
    "\n",
    "def deletecontact(d, name):\n",
    "    d.pop(name)\n",
    "    return\n",
    "\n",
    "addcontact(contacts,'sailaja',8885551098)\n",
    "displaycontacts(contacts)\n",
    "\n",
    "modifycontacts(contacts, 'gayatri', 7680883575)\n",
    "displaycontacts(contacts)\n",
    "deletecontact(contacts,'gayatri')\n"
   ]
  },
  {
   "cell_type": "code",
   "execution_count": 38,
   "metadata": {},
   "outputs": [
    {
     "name": "stdout",
     "output_type": "stream",
     "text": [
      "<class 'list'>\n"
     ]
    },
    {
     "data": {
      "text/plain": [
       "[1, 2, 3, 4, 5]"
      ]
     },
     "execution_count": 38,
     "metadata": {},
     "output_type": "execute_result"
    }
   ],
   "source": [
    "li4=[5,4,3,2,1]\n",
    "li4=list(reversed(li4))\n",
    "print(type(li4))\n",
    "li4\n"
   ]
  },
  {
   "cell_type": "code",
   "execution_count": 39,
   "metadata": {},
   "outputs": [
    {
     "name": "stdout",
     "output_type": "stream",
     "text": [
      "0 : 1\n",
      "1 : 2\n",
      "2 : 3\n",
      "3 : 4\n",
      "4 : 5\n"
     ]
    }
   ],
   "source": [
    "#  enumerate is used to access elements in ds with  value along with index\n",
    "enumerate(li4)\n",
    "for i, value in enumerate(li4):\n",
    "    print(i, ':', value)"
   ]
  },
  {
   "cell_type": "code",
   "execution_count": 40,
   "metadata": {},
   "outputs": [],
   "source": [
    "li3=[1,2,3,4]\n"
   ]
  },
  {
   "cell_type": "code",
   "execution_count": 41,
   "metadata": {},
   "outputs": [
    {
     "name": "stdout",
     "output_type": "stream",
     "text": [
      "1 1\n",
      "2 2\n",
      "3 3\n",
      "4 4\n"
     ]
    },
    {
     "data": {
      "text/plain": [
       "<zip at 0x2074e1fd388>"
      ]
     },
     "execution_count": 41,
     "metadata": {},
     "output_type": "execute_result"
    }
   ],
   "source": [
    "#zip is used to combine two different lists\n",
    "\n",
    "li3\n",
    "li4\n",
    "for i, j in zip(li3,li4):\n",
    "    print(i,j)\n",
    "zip(li3,li4)"
   ]
  },
  {
   "cell_type": "markdown",
   "metadata": {},
   "source": [
    "#### Python Regular Expressions"
   ]
  },
  {
   "cell_type": "markdown",
   "metadata": {},
   "source": [
    ".[0-9].  RE for all single digits\n",
    ".[0, 1,2,3,...9]\n",
    "\n",
    ".[a-z]. RE for all lower case alphabet\n",
    ".[A-Z]. RE for all uppercase alphabet\n",
    "\n",
    ".[0-5]RE for all numbers between 0 and 5\n",
    ".[10] RE matches any expression that has 0 and 1\n"
   ]
  },
  {
   "cell_type": "code",
   "execution_count": null,
   "metadata": {},
   "outputs": [],
   "source": [
    "#Function to validate college student roll no\n",
    "\n",
    "#Function to validate indian phone numbers starting 9,8,7,6 and have 10 digits\n",
    "\n",
    "#Function to validate email address\n",
    "        username@domain.extension\n",
    "        username = {string of length9. can contain digits, -, alphabet}\n",
    "        domain = (string of 9. can contain digits and alphabet)\n",
    "        extension = {length of 3. only alphabet}"
   ]
  },
  {
   "cell_type": "code",
   "execution_count": 15,
   "metadata": {},
   "outputs": [
    {
     "data": {
      "text/plain": [
       "True"
      ]
     },
     "execution_count": 15,
     "metadata": {},
     "output_type": "execute_result"
    }
   ],
   "source": [
    "#Function to validate college student rollnumber\n",
    "import re\n",
    "def isValidRnumber(Rno):\n",
    "    if re.match('[1][5][7][3][1][aA][0][5][0-9][0-9]',Rno) != None:\n",
    "        return True\n",
    "    return False\n",
    "   \n",
    "\n",
    "isValidRnumber(\"15731a0564\")\n",
    "    "
   ]
  },
  {
   "cell_type": "code",
   "execution_count": 17,
   "metadata": {},
   "outputs": [
    {
     "data": {
      "text/plain": [
       "True"
      ]
     },
     "execution_count": 17,
     "metadata": {},
     "output_type": "execute_result"
    }
   ],
   "source": [
    "import re\n",
    "def isvalidEmail(email):\n",
    "    email = str(email)\n",
    "    pattern='^[a-z][a-z0-9_.]{5,14}[@][a-z0-9]{3,12}[.][a-z]{2,3}'\n",
    "    if  re.match(pattern, email):\n",
    "        return True\n",
    "    return False\n",
    "\n",
    "isvalidEmail(\"prasmitha.vits@gmail.com\")\n",
    "\n"
   ]
  },
  {
   "cell_type": "code",
   "execution_count": 16,
   "metadata": {},
   "outputs": [
    {
     "data": {
      "text/plain": [
       "True"
      ]
     },
     "execution_count": 16,
     "metadata": {},
     "output_type": "execute_result"
    }
   ],
   "source": [
    "import re\n",
    "def isvalidPhone(phone):\n",
    "    if re.match('^[9876][0-9]{9}$',phone) != None:\n",
    "        return True\n",
    "    return False\n",
    "isvalidPhone(\"9550172942\")\n"
   ]
  },
  {
   "cell_type": "code",
   "execution_count": 18,
   "metadata": {},
   "outputs": [],
   "source": [
    "s1='Introduction to programming concepts with scratch, Scratch environment, sprites looks and motion, Angles and directions, repetition and variation, changing costumes, adding background, Input/Output,  variables and operators. Working with sounds and sprite communication and creating stories, App Generation.'\n"
   ]
  },
  {
   "cell_type": "code",
   "execution_count": 19,
   "metadata": {},
   "outputs": [
    {
     "data": {
      "text/plain": [
       "['Introduction to programming concepts with scratch',\n",
       " 'Scratch environment',\n",
       " 'sprites looks and motion',\n",
       " 'Angles and directions',\n",
       " 'repetition and variation',\n",
       " 'changing costumes',\n",
       " 'adding background',\n",
       " 'Input/Output',\n",
       " ' variables and operators. Working with sounds and sprite communication and creating stories',\n",
       " 'App Generation.']"
      ]
     },
     "execution_count": 19,
     "metadata": {},
     "output_type": "execute_result"
    }
   ],
   "source": [
    "syllabusList=re.split('[,][\\ ]',s1)\n",
    "syllabusList"
   ]
  },
  {
   "cell_type": "markdown",
   "metadata": {},
   "source": [
    "#### Python Date Time Arithmetic"
   ]
  },
  {
   "cell_type": "code",
   "execution_count": 28,
   "metadata": {},
   "outputs": [
    {
     "name": "stdout",
     "output_type": "stream",
     "text": [
      "2019-05-31 17:10:27.811820\n"
     ]
    }
   ],
   "source": [
    "import datetime\n",
    "now=datetime.datetime.now()\n",
    "print(now)\n"
   ]
  },
  {
   "cell_type": "code",
   "execution_count": 34,
   "metadata": {},
   "outputs": [
    {
     "name": "stdout",
     "output_type": "stream",
     "text": [
      "5 days, 0:00:00\n"
     ]
    }
   ],
   "source": [
    "# function to find the difference between two given dates\n",
    "#yyyy:MM:DD\n",
    "\n",
    "def dateDifference(date1,date2):\n",
    "    year1 = int(date1[:4])\n",
    "    month1 =int(date1[5:7])\n",
    "    day1=int(date1[8:])\n",
    "    \n",
    "    year2=int(date2[:4])\n",
    "    month2 = int(date2[5:7])\n",
    "    day2=int(date2[8:])\n",
    "    d1=datetime.date(year1,month1,day1)\n",
    "    d2=datetime.date(year2,month2,day2)\n",
    "    return d2 - d1\n",
    "\n",
    "print(dateDifference('2019-05-27','2019:06:01'))    \n",
    "\n"
   ]
  },
  {
   "cell_type": "code",
   "execution_count": 35,
   "metadata": {},
   "outputs": [
    {
     "data": {
      "text/plain": [
       "True"
      ]
     },
     "execution_count": 35,
     "metadata": {},
     "output_type": "execute_result"
    }
   ],
   "source": [
    "#2020 - true\n",
    "#1900 - false\n",
    "#1600 - true\n",
    "#2008 - true\n",
    "#400 - true\n",
    "#600 - false\n",
    "def isLeap(year):\n",
    "    if (year % 4 == 0 and year % 100 != 0) or year % 400 == 0:\n",
    "        return True\n",
    "    return False\n",
    "isLeap(2020)"
   ]
  },
  {
   "cell_type": "markdown",
   "metadata": {},
   "source": [
    "#### List Comprehensions"
   ]
  },
  {
   "cell_type": "code",
   "execution_count": 36,
   "metadata": {},
   "outputs": [
    {
     "data": {
      "text/plain": [
       "21"
      ]
     },
     "execution_count": 36,
     "metadata": {},
     "output_type": "execute_result"
    }
   ],
   "source": [
    "\n",
    "\n",
    "li=[1,2,3,4,5,6]\n",
    "sum(li)"
   ]
  },
  {
   "cell_type": "code",
   "execution_count": 37,
   "metadata": {},
   "outputs": [
    {
     "data": {
      "text/plain": [
       "7503"
      ]
     },
     "execution_count": 37,
     "metadata": {},
     "output_type": "execute_result"
    }
   ],
   "source": [
    "sum(range(123))"
   ]
  },
  {
   "cell_type": "code",
   "execution_count": 38,
   "metadata": {},
   "outputs": [
    {
     "data": {
      "text/plain": [
       "45"
      ]
     },
     "execution_count": 38,
     "metadata": {},
     "output_type": "execute_result"
    }
   ],
   "source": [
    "sum(list(range(9+1)))"
   ]
  },
  {
   "cell_type": "markdown",
   "metadata": {},
   "source": []
  },
  {
   "cell_type": "code",
   "execution_count": 46,
   "metadata": {},
   "outputs": [
    {
     "data": {
      "text/plain": [
       "22.4682781862041"
      ]
     },
     "execution_count": 46,
     "metadata": {},
     "output_type": "execute_result"
    }
   ],
   "source": [
    "#calculate sum of squareroot of n natural numbers\n",
    "from math import sqrt\n",
    "def sqrtNNaturalNumbers(n):\n",
    "    return sum([sqrt(i) for i in list(range(1,n+1))])\n",
    "sqrtNNaturalNumbers(10)"
   ]
  },
  {
   "cell_type": "code",
   "execution_count": 47,
   "metadata": {},
   "outputs": [
    {
     "data": {
      "text/plain": [
       "[1, 4, 9, 16, 25, 36]"
      ]
     },
     "execution_count": 47,
     "metadata": {},
     "output_type": "execute_result"
    }
   ],
   "source": [
    "def squareListElements(li):\n",
    "    return [i ** 2 for i in li]\n",
    "squareListElements(li)"
   ]
  },
  {
   "cell_type": "code",
   "execution_count": 48,
   "metadata": {},
   "outputs": [
    {
     "data": {
      "text/plain": [
       "[9, 18, 27, 36, 45]"
      ]
     },
     "execution_count": 48,
     "metadata": {},
     "output_type": "execute_result"
    }
   ],
   "source": [
    "#Design a function using list comprehension to identify all numbers devisible by 9 in  a given list\n",
    "li = list(range(1,50))\n",
    "def devisibleBy9(li):\n",
    "    return [i for i in li if i%9==0]\n",
    "devisibleBy9(li)"
   ]
  },
  {
   "cell_type": "code",
   "execution_count": 50,
   "metadata": {},
   "outputs": [
    {
     "data": {
      "text/plain": [
       "[1980, 1984, 1988, 1992, 1996, 2000, 2004, 2008, 2012, 2016]"
      ]
     },
     "execution_count": 50,
     "metadata": {},
     "output_type": "execute_result"
    }
   ],
   "source": [
    "li = list(range(1979, 2019))\n",
    "def leapList(li):\n",
    "    return[i for i in li if( i%4== 0 and i% 100 != 0)or i%400 == 0]\n",
    "leapList(li)"
   ]
  },
  {
   "cell_type": "markdown",
   "metadata": {},
   "source": [
    "### Maps\n"
   ]
  },
  {
   "cell_type": "markdown",
   "metadata": {},
   "source": [
    "#####Functions and  Iterators are Passed as parameters to Maps"
   ]
  },
  {
   "cell_type": "code",
   "execution_count": 59,
   "metadata": {},
   "outputs": [
    {
     "data": {
      "text/plain": [
       "441"
      ]
     },
     "execution_count": 59,
     "metadata": {},
     "output_type": "execute_result"
    }
   ],
   "source": [
    "#Function to calculate cubes of all numbers in a \n",
    "li = [1,2,3,4,5,6]\n",
    "def cube(n):\n",
    "    return n**3\n",
    "\n",
    "for i in li:\n",
    "    cube(i)\n",
    "    \n",
    "sum([cube(i) for i in li])\n",
    "\n",
    "sum(list(map(cube,li)))"
   ]
  },
  {
   "cell_type": "code",
   "execution_count": 64,
   "metadata": {},
   "outputs": [
    {
     "data": {
      "text/plain": [
       "[3, 2, 1]"
      ]
     },
     "execution_count": 64,
     "metadata": {},
     "output_type": "execute_result"
    }
   ],
   "source": [
    "#Function to convert number into words\n",
    "\n",
    "def listOfDigits(n):\n",
    "   # d1={1:'one', 2: 'two', 3: 'three', 4:'four'}\n",
    "    \n",
    "    digit = []\n",
    "    i = 0\n",
    "    while(n != 0) :\n",
    "        digit.append(n % 10)\n",
    "        \n",
    "        n= n // 10 #integer division\n",
    "        i += 1 \n",
    "    return digit\n",
    "\n",
    "def numberToWords(n):\n",
    "    digits = listOfDigits(n)\n",
    "    d1={0:'zero',1:'one', 2: 'two', 3: 'three', 4:'four'}\n",
    "    dictPlaceHolder = { 0:'units', 1: 'tens', 2: 'hundred', 3:'thousand'}\n",
    "    \n",
    "    for i in range(0, len(digits)):\n",
    "    return digits\n",
    "numberToWords(123)"
   ]
  },
  {
   "cell_type": "code",
   "execution_count": 65,
   "metadata": {},
   "outputs": [
    {
     "data": {
      "text/plain": [
       "False"
      ]
     },
     "execution_count": 65,
     "metadata": {},
     "output_type": "execute_result"
    }
   ],
   "source": [
    "import re\n",
    "def phoneNumberValidator(phone):\n",
    "    phone=str(phone)\n",
    "    pattern = '^[6-9][0-9]{9}$'\n",
    "    if re.match(pattern,phone):\n",
    "        return True\n",
    "    return False\n",
    "phoneNumberValidator(123456789)"
   ]
  },
  {
   "cell_type": "code",
   "execution_count": 20,
   "metadata": {},
   "outputs": [
    {
     "name": "stdout",
     "output_type": "stream",
     "text": [
      "0:42:23\n"
     ]
    }
   ],
   "source": [
    "from datetime import datetime\n",
    "\n",
    "s1 = '10:33:26'\n",
    "s2 = '11:15:49' # for example\n",
    "FMT = '%H:%M:%S'\n",
    "tdelta = datetime.strptime(s2, FMT) - datetime.strptime(s1, FMT) \n",
    "#the strptime function, which parses a string into a time object.\n",
    "\n",
    "\n",
    "print(tdelta)"
   ]
  },
  {
   "cell_type": "code",
   "execution_count": 28,
   "metadata": {},
   "outputs": [
    {
     "data": {
      "text/plain": [
       "5"
      ]
     },
     "execution_count": 28,
     "metadata": {},
     "output_type": "execute_result"
    }
   ],
   "source": [
    "from datetime import datetime\n",
    "\n",
    "def days_between(d1, d2):\n",
    "    d1 = datetime.strptime(d1, \"%Y-%m-%d\")\n",
    "    d2 = datetime.strptime(d2, \"%Y-%m-%d\")\n",
    "    return abs((d2 - d1).days)\n",
    "days_between('2019-05-27', '2019-06-01')"
   ]
  },
  {
   "cell_type": "code",
   "execution_count": 33,
   "metadata": {},
   "outputs": [
    {
     "data": {
      "text/plain": [
       "2543"
      ]
     },
     "execution_count": 33,
     "metadata": {},
     "output_type": "execute_result"
    }
   ],
   "source": [
    "from datetime import datetime\n",
    "def timeDifference(t1, t2):\n",
    "    FMT= '%H:%M:%S'\n",
    "    tdelta=datetime.strptime(t2,FMT) - datetime.strptime(s1,FMT)\n",
    "    return (tdelta).seconds\n",
    "timeDifference('10:33:26', '11:15:49')"
   ]
  },
  {
   "cell_type": "code",
   "execution_count": 34,
   "metadata": {},
   "outputs": [
    {
     "data": {
      "text/plain": [
       "5.0"
      ]
     },
     "execution_count": 34,
     "metadata": {},
     "output_type": "execute_result"
    }
   ],
   "source": [
    "#function to calculate square root of a given number without library function\n",
    "def sRoot(n):\n",
    "    s=n/2\n",
    "    temp=0\n",
    "    while(temp!=s):\n",
    "        temp=s\n",
    "        s=(((n/temp)+temp)/2)\n",
    "    return s\n",
    "sRoot(25)\n"
   ]
  },
  {
   "cell_type": "code",
   "execution_count": 37,
   "metadata": {},
   "outputs": [
    {
     "name": "stdout",
     "output_type": "stream",
     "text": [
      "given string madam palindrom\n",
      "given string gannu not palindrome\n"
     ]
    }
   ],
   "source": [
    "# Function to check the given string is apalindrome\n",
    "def palindrome(s):\n",
    "    s2 = s[len(s):: -1]\n",
    "    if s == s2:\n",
    "        return( print(\"given string \"+ s +\" palindrom\"))\n",
    "    else:\n",
    "        return (print(\"given string \"+ s+\" not palindrome\"))\n",
    "palindrome(\"madam\")\n",
    "palindrome(\"gannu\")"
   ]
  },
  {
   "cell_type": "code",
   "execution_count": null,
   "metadata": {},
   "outputs": [],
   "source": []
  }
 ],
 "metadata": {
  "kernelspec": {
   "display_name": "Python 3",
   "language": "python",
   "name": "python3"
  },
  "language_info": {
   "codemirror_mode": {
    "name": "ipython",
    "version": 3
   },
   "file_extension": ".py",
   "mimetype": "text/x-python",
   "name": "python",
   "nbconvert_exporter": "python",
   "pygments_lexer": "ipython3",
   "version": "3.7.3"
  }
 },
 "nbformat": 4,
 "nbformat_minor": 2
}
